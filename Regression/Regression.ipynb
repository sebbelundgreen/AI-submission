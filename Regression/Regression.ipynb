{
 "cells": [
  {
   "cell_type": "code",
   "execution_count": 2,
   "metadata": {},
   "outputs": [],
   "source": [
    "import numpy as np\n",
    "import pandas as pd\n",
    "import tensorflow as tf"
   ]
  },
  {
   "cell_type": "code",
   "execution_count": 3,
   "metadata": {},
   "outputs": [],
   "source": [
    "dataset = pd.read_excel('Folds5x2_pp.xlsx')\n",
    "X = dataset.iloc[:, :-1].values\n",
    "y = dataset.iloc[:, -1].values"
   ]
  },
  {
   "cell_type": "code",
   "execution_count": 4,
   "metadata": {},
   "outputs": [
    {
     "data": {
      "text/plain": [
       "(9568,)"
      ]
     },
     "execution_count": 4,
     "metadata": {},
     "output_type": "execute_result"
    }
   ],
   "source": [
    "y.shape"
   ]
  },
  {
   "cell_type": "code",
   "execution_count": 5,
   "metadata": {},
   "outputs": [],
   "source": [
    "from sklearn.model_selection import train_test_split\n",
    "X_train, X_test, y_train, y_test = train_test_split(X, y, test_size = 0.2, random_state = 0)"
   ]
  },
  {
   "cell_type": "code",
   "execution_count": 6,
   "metadata": {},
   "outputs": [
    {
     "data": {
      "text/plain": [
       "(1914,)"
      ]
     },
     "execution_count": 6,
     "metadata": {},
     "output_type": "execute_result"
    }
   ],
   "source": [
    "y_test.shape"
   ]
  },
  {
   "cell_type": "code",
   "execution_count": 7,
   "metadata": {},
   "outputs": [],
   "source": [
    "ann = tf.keras.models.Sequential()"
   ]
  },
  {
   "cell_type": "code",
   "execution_count": 8,
   "metadata": {},
   "outputs": [],
   "source": [
    "ann.add(tf.keras.layers.Dense(units=6,activation='relu'))"
   ]
  },
  {
   "cell_type": "code",
   "execution_count": 9,
   "metadata": {},
   "outputs": [],
   "source": [
    "ann.add(tf.keras.layers.Dense(units=6,activation='relu'))"
   ]
  },
  {
   "cell_type": "code",
   "execution_count": 10,
   "metadata": {},
   "outputs": [],
   "source": [
    "ann.add(tf.keras.layers.Dense(units=1,activation=None))"
   ]
  },
  {
   "cell_type": "code",
   "execution_count": 11,
   "metadata": {},
   "outputs": [],
   "source": [
    "ann.compile(optimizer='adam', loss='mean_squared_error')"
   ]
  },
  {
   "cell_type": "code",
   "execution_count": 12,
   "metadata": {},
   "outputs": [
    {
     "data": {
      "text/plain": [
       "array([[  11.22,   43.13, 1017.24,   80.9 ],\n",
       "       [  13.67,   54.3 , 1015.92,   75.42],\n",
       "       [  32.84,   77.95, 1014.68,   45.8 ],\n",
       "       ...,\n",
       "       [  16.81,   38.52, 1018.26,   75.21],\n",
       "       [  12.8 ,   41.16, 1022.43,   86.19],\n",
       "       [  32.32,   67.9 , 1006.08,   37.93]])"
      ]
     },
     "execution_count": 12,
     "metadata": {},
     "output_type": "execute_result"
    }
   ],
   "source": [
    "X_train"
   ]
  },
  {
   "cell_type": "code",
   "execution_count": 13,
   "metadata": {},
   "outputs": [
    {
     "name": "stdout",
     "output_type": "stream",
     "text": [
      "Epoch 1/100\n",
      "240/240 [==============================] - 0s 1ms/step - loss: 206574.0625\n",
      "Epoch 2/100\n",
      "240/240 [==============================] - 0s 977us/step - loss: 206356.0625\n",
      "Epoch 3/100\n",
      "240/240 [==============================] - 0s 1ms/step - loss: 206138.4375\n",
      "Epoch 4/100\n",
      "240/240 [==============================] - 0s 972us/step - loss: 205920.8594\n",
      "Epoch 5/100\n",
      "240/240 [==============================] - 0s 1ms/step - loss: 205703.4531\n",
      "Epoch 6/100\n",
      "240/240 [==============================] - 0s 1ms/step - loss: 205486.1719\n",
      "Epoch 7/100\n",
      "240/240 [==============================] - 0s 977us/step - loss: 205269.0312\n",
      "Epoch 8/100\n",
      "240/240 [==============================] - 0s 1ms/step - loss: 205052.0156\n",
      "Epoch 9/100\n",
      "240/240 [==============================] - 0s 931us/step - loss: 204835.2812\n",
      "Epoch 10/100\n",
      "240/240 [==============================] - 0s 948us/step - loss: 204618.5625\n",
      "Epoch 11/100\n",
      "240/240 [==============================] - 0s 1ms/step - loss: 204401.9375\n",
      "Epoch 12/100\n",
      "240/240 [==============================] - 0s 956us/step - loss: 204185.6562\n",
      "Epoch 13/100\n",
      "240/240 [==============================] - 0s 1ms/step - loss: 203969.2656\n",
      "Epoch 14/100\n",
      "240/240 [==============================] - 0s 957us/step - loss: 203753.1875\n",
      "Epoch 15/100\n",
      "240/240 [==============================] - 0s 1ms/step - loss: 203537.0469\n",
      "Epoch 16/100\n",
      "240/240 [==============================] - 0s 939us/step - loss: 203321.1562\n",
      "Epoch 17/100\n",
      "240/240 [==============================] - 0s 1ms/step - loss: 203105.3125\n",
      "Epoch 18/100\n",
      "240/240 [==============================] - 0s 1ms/step - loss: 202889.7344\n",
      "Epoch 19/100\n",
      "240/240 [==============================] - 0s 986us/step - loss: 202674.2188\n",
      "Epoch 20/100\n",
      "240/240 [==============================] - 0s 1ms/step - loss: 202458.8281\n",
      "Epoch 21/100\n",
      "240/240 [==============================] - 0s 972us/step - loss: 202243.5625\n",
      "Epoch 22/100\n",
      "240/240 [==============================] - 0s 1ms/step - loss: 202028.3281\n",
      "Epoch 23/100\n",
      "240/240 [==============================] - 0s 1ms/step - loss: 201813.2031\n",
      "Epoch 24/100\n",
      "240/240 [==============================] - 0s 1ms/step - loss: 201598.2344\n",
      "Epoch 25/100\n",
      "240/240 [==============================] - 0s 967us/step - loss: 201383.4531\n",
      "Epoch 26/100\n",
      "240/240 [==============================] - 0s 1ms/step - loss: 201168.7969\n",
      "Epoch 27/100\n",
      "240/240 [==============================] - 0s 989us/step - loss: 200954.2031\n",
      "Epoch 28/100\n",
      "240/240 [==============================] - 0s 1ms/step - loss: 200739.6406\n",
      "Epoch 29/100\n",
      "240/240 [==============================] - 0s 935us/step - loss: 200525.3438\n",
      "Epoch 30/100\n",
      "240/240 [==============================] - 0s 1ms/step - loss: 200310.9844\n",
      "Epoch 31/100\n",
      "240/240 [==============================] - 0s 1ms/step - loss: 200096.8906\n",
      "Epoch 32/100\n",
      "240/240 [==============================] - 0s 952us/step - loss: 199882.8594\n",
      "Epoch 33/100\n",
      "240/240 [==============================] - 0s 1ms/step - loss: 199669.0000\n",
      "Epoch 34/100\n",
      "240/240 [==============================] - 0s 943us/step - loss: 199455.1250\n",
      "Epoch 35/100\n",
      "240/240 [==============================] - 0s 1ms/step - loss: 199241.4531: 0s - loss: 199342.\n",
      "Epoch 36/100\n",
      "240/240 [==============================] - 0s 1ms/step - loss: 199027.8438\n",
      "Epoch 37/100\n",
      "240/240 [==============================] - 0s 998us/step - loss: 198814.4844\n",
      "Epoch 38/100\n",
      "240/240 [==============================] - 0s 1ms/step - loss: 198601.1250\n",
      "Epoch 39/100\n",
      "240/240 [==============================] - 0s 1ms/step - loss: 198387.8906\n",
      "Epoch 40/100\n",
      "240/240 [==============================] - 0s 1ms/step - loss: 198174.7812\n",
      "Epoch 41/100\n",
      "240/240 [==============================] - 0s 960us/step - loss: 197961.7812\n",
      "Epoch 42/100\n",
      "240/240 [==============================] - 0s 1ms/step - loss: 197749.0000\n",
      "Epoch 43/100\n",
      "240/240 [==============================] - 0s 997us/step - loss: 197536.2188\n",
      "Epoch 44/100\n",
      "240/240 [==============================] - 0s 1ms/step - loss: 197323.5938\n",
      "Epoch 45/100\n",
      "240/240 [==============================] - 0s 993us/step - loss: 197111.0000\n",
      "Epoch 46/100\n",
      "240/240 [==============================] - 0s 1ms/step - loss: 196898.6719\n",
      "Epoch 47/100\n",
      "240/240 [==============================] - 0s 956us/step - loss: 196686.3281\n",
      "Epoch 48/100\n",
      "240/240 [==============================] - 0s 1ms/step - loss: 196474.0938\n",
      "Epoch 49/100\n",
      "240/240 [==============================] - 0s 921us/step - loss: 196262.0000\n",
      "Epoch 50/100\n",
      "240/240 [==============================] - 0s 991us/step - loss: 196050.0625\n",
      "Epoch 51/100\n",
      "240/240 [==============================] - 0s 1ms/step - loss: 195838.2969\n",
      "Epoch 52/100\n",
      "240/240 [==============================] - 0s 1ms/step - loss: 195626.6562\n",
      "Epoch 53/100\n",
      "240/240 [==============================] - 0s 1ms/step - loss: 195414.9062: 0s - loss: 195306.\n",
      "Epoch 54/100\n",
      "240/240 [==============================] - 0s 1ms/step - loss: 195203.4375\n",
      "Epoch 55/100\n",
      "240/240 [==============================] - 0s 1ms/step - loss: 194992.0312\n",
      "Epoch 56/100\n",
      "240/240 [==============================] - 0s 1ms/step - loss: 194780.8594\n",
      "Epoch 57/100\n",
      "240/240 [==============================] - 0s 972us/step - loss: 194569.6719\n",
      "Epoch 58/100\n",
      "240/240 [==============================] - 0s 1ms/step - loss: 194358.6250\n",
      "Epoch 59/100\n",
      "240/240 [==============================] - 0s 956us/step - loss: 194147.7031\n",
      "Epoch 60/100\n",
      "240/240 [==============================] - 0s 1ms/step - loss: 193936.8125\n",
      "Epoch 61/100\n",
      "240/240 [==============================] - 0s 976us/step - loss: 193726.2031\n",
      "Epoch 62/100\n",
      "240/240 [==============================] - 0s 1ms/step - loss: 193515.6250\n",
      "Epoch 63/100\n",
      "240/240 [==============================] - 0s 1ms/step - loss: 193305.1094\n",
      "Epoch 64/100\n",
      "240/240 [==============================] - 0s 1ms/step - loss: 193094.8594\n",
      "Epoch 65/100\n",
      "240/240 [==============================] - 0s 1ms/step - loss: 192884.6094\n",
      "Epoch 66/100\n",
      "240/240 [==============================] - 0s 2ms/step - loss: 192674.3594: 0s - loss: - ETA: 0s - loss: 19298\n",
      "Epoch 67/100\n",
      "240/240 [==============================] - 0s 1ms/step - loss: 192464.5469\n",
      "Epoch 68/100\n",
      "240/240 [==============================] - ETA: 0s - loss: 192250.35 - 0s 2ms/step - loss: 192254.5625\n",
      "Epoch 69/100\n",
      "240/240 [==============================] - 1s 2ms/step - loss: 192044.8281\n",
      "Epoch 70/100\n",
      "240/240 [==============================] - 0s 2ms/step - loss: 191835.0781\n",
      "Epoch 71/100\n",
      "240/240 [==============================] - 0s 2ms/step - loss: 191625.5938\n",
      "Epoch 72/100\n",
      "240/240 [==============================] - 0s 2ms/step - loss: 191416.1875\n",
      "Epoch 73/100\n",
      "240/240 [==============================] - 0s 2ms/step - loss: 191206.8281\n",
      "Epoch 74/100\n",
      "240/240 [==============================] - 0s 1ms/step - loss: 190997.6719\n",
      "Epoch 75/100\n",
      "240/240 [==============================] - 0s 2ms/step - loss: 190788.5469\n",
      "Epoch 76/100\n",
      "240/240 [==============================] - 0s 2ms/step - loss: 190579.6719\n",
      "Epoch 77/100\n",
      "240/240 [==============================] - 0s 2ms/step - loss: 190370.7500\n",
      "Epoch 78/100\n",
      "240/240 [==============================] - 0s 1ms/step - loss: 190162.0938\n",
      "Epoch 79/100\n",
      "240/240 [==============================] - 0s 1ms/step - loss: 189953.4062\n",
      "Epoch 80/100\n",
      "240/240 [==============================] - 0s 1ms/step - loss: 189744.9375\n",
      "Epoch 81/100\n",
      "240/240 [==============================] - 0s 2ms/step - loss: 189536.5938\n",
      "Epoch 82/100\n",
      "240/240 [==============================] - 0s 2ms/step - loss: 189328.1875\n",
      "Epoch 83/100\n",
      "240/240 [==============================] - 0s 2ms/step - loss: 189120.0312\n",
      "Epoch 84/100\n",
      "240/240 [==============================] - 0s 2ms/step - loss: 188912.0938\n",
      "Epoch 85/100\n",
      "240/240 [==============================] - 0s 2ms/step - loss: 188704.0625\n",
      "Epoch 86/100\n",
      "240/240 [==============================] - 0s 2ms/step - loss: 188496.3281\n",
      "Epoch 87/100\n",
      "240/240 [==============================] - 1s 3ms/step - loss: 188288.6562\n",
      "Epoch 88/100\n",
      "240/240 [==============================] - 0s 2ms/step - loss: 188081.0469\n",
      "Epoch 89/100\n",
      "240/240 [==============================] - 1s 2ms/step - loss: 187873.6250\n",
      "Epoch 90/100\n",
      "240/240 [==============================] - 0s 2ms/step - loss: 187666.1875\n",
      "Epoch 91/100\n",
      "240/240 [==============================] - 0s 1ms/step - loss: 187458.8594\n",
      "Epoch 92/100\n"
     ]
    },
    {
     "name": "stdout",
     "output_type": "stream",
     "text": [
      "240/240 [==============================] - 0s 1ms/step - loss: 187251.7812\n",
      "Epoch 93/100\n",
      "240/240 [==============================] - 1s 2ms/step - loss: 187044.8125\n",
      "Epoch 94/100\n",
      "240/240 [==============================] - 0s 2ms/step - loss: 186837.9688\n",
      "Epoch 95/100\n",
      "240/240 [==============================] - 0s 2ms/step - loss: 186631.0781\n",
      "Epoch 96/100\n",
      "240/240 [==============================] - 0s 2ms/step - loss: 186424.4688\n",
      "Epoch 97/100\n",
      "240/240 [==============================] - 0s 1ms/step - loss: 186217.8594\n",
      "Epoch 98/100\n",
      "240/240 [==============================] - 0s 1ms/step - loss: 186011.4375\n",
      "Epoch 99/100\n",
      "240/240 [==============================] - 0s 997us/step - loss: 185805.1406\n",
      "Epoch 100/100\n",
      "240/240 [==============================] - 0s 1ms/step - loss: 185599.0312\n"
     ]
    },
    {
     "data": {
      "text/plain": [
       "<tensorflow.python.keras.callbacks.History at 0x22094a93880>"
      ]
     },
     "execution_count": 13,
     "metadata": {},
     "output_type": "execute_result"
    }
   ],
   "source": [
    "ann.fit(x=X_train,y=y_train, batch_size=32, epochs=100)"
   ]
  },
  {
   "cell_type": "code",
   "execution_count": 14,
   "metadata": {},
   "outputs": [],
   "source": [
    "y_pred = ann.predict(X_test)"
   ]
  },
  {
   "cell_type": "code",
   "execution_count": 15,
   "metadata": {},
   "outputs": [
    {
     "data": {
      "text/plain": [
       "array([[23.94957],\n",
       "       [23.94957],\n",
       "       [23.94957],\n",
       "       ...,\n",
       "       [23.94957],\n",
       "       [23.94957],\n",
       "       [23.94957]], dtype=float32)"
      ]
     },
     "execution_count": 15,
     "metadata": {},
     "output_type": "execute_result"
    }
   ],
   "source": [
    "y_pred"
   ]
  },
  {
   "cell_type": "code",
   "execution_count": 37,
   "metadata": {},
   "outputs": [
    {
     "data": {
      "text/plain": [
       "array([   0.68,    0.41,    1.16, ..., -200.  ,    1.  ,    1.16])"
      ]
     },
     "execution_count": 37,
     "metadata": {},
     "output_type": "execute_result"
    }
   ],
   "source": [
    "y_test"
   ]
  },
  {
   "cell_type": "code",
   "execution_count": 38,
   "metadata": {},
   "outputs": [],
   "source": [
    "np.set_printoptions(precision=2)"
   ]
  },
  {
   "cell_type": "code",
   "execution_count": 39,
   "metadata": {},
   "outputs": [
    {
     "name": "stdout",
     "output_type": "stream",
     "text": [
      "[[   1.03    0.68]\n",
      " [   1.03    0.41]\n",
      " [   1.03    1.16]\n",
      " ...\n",
      " [-199.95 -200.  ]\n",
      " [   1.03    1.  ]\n",
      " [   1.03    1.16]]\n"
     ]
    }
   ],
   "source": [
    "print(np.concatenate((y_pred.reshape(len(y_pred),1), y_test.reshape(len(y_test),1)),1))"
   ]
  },
  {
   "cell_type": "code",
   "execution_count": 40,
   "metadata": {},
   "outputs": [
    {
     "name": "stdout",
     "output_type": "stream",
     "text": [
      "<class 'numpy.ndarray'>\n"
     ]
    }
   ],
   "source": [
    "print(type(np.concatenate((y_pred.reshape(len(y_pred),1), y_test.reshape(len(y_test),1)),1)))"
   ]
  },
  {
   "cell_type": "code",
   "execution_count": 41,
   "metadata": {},
   "outputs": [
    {
     "name": "stdout",
     "output_type": "stream",
     "text": [
      "[[1.03 0.68]\n",
      " [1.03 0.41]\n",
      " [1.03 1.16]\n",
      " [1.03 1.09]\n",
      " [1.03 1.04]\n",
      " [1.03 0.84]\n",
      " [1.03 0.61]\n",
      " [1.03 1.46]\n",
      " [1.03 0.63]\n",
      " [1.03 1.07]]\n"
     ]
    }
   ],
   "source": [
    "print(np.concatenate((y_pred.reshape(len(y_pred),1), y_test.reshape(len(y_test),1)),1)[0:10])"
   ]
  },
  {
   "cell_type": "markdown",
   "metadata": {},
   "source": [
    "# NEW"
   ]
  },
  {
   "cell_type": "code",
   "execution_count": 17,
   "metadata": {},
   "outputs": [],
   "source": [
    "import numpy as np\n",
    "import pandas as pd\n",
    "import matplotlib.pyplot as plt"
   ]
  },
  {
   "cell_type": "code",
   "execution_count": 18,
   "metadata": {},
   "outputs": [],
   "source": [
    "dataset = pd.read_excel('Folds5x2_pp.xlsx')"
   ]
  },
  {
   "cell_type": "code",
   "execution_count": 19,
   "metadata": {},
   "outputs": [],
   "source": [
    "X = dataset.iloc[:, :-1].values\n",
    "y = dataset.iloc[:, -1].values"
   ]
  },
  {
   "cell_type": "code",
   "execution_count": 20,
   "metadata": {},
   "outputs": [],
   "source": [
    "from sklearn.model_selection import train_test_split"
   ]
  },
  {
   "cell_type": "code",
   "execution_count": 21,
   "metadata": {},
   "outputs": [],
   "source": [
    "X_train, X_test, y_train, y_test = train_test_split(X, y, test_size=0.2, random_state=0)"
   ]
  },
  {
   "cell_type": "code",
   "execution_count": 22,
   "metadata": {},
   "outputs": [],
   "source": [
    "from sklearn.linear_model import LinearRegression\n",
    "regressor = LinearRegression()"
   ]
  },
  {
   "cell_type": "code",
   "execution_count": 23,
   "metadata": {},
   "outputs": [
    {
     "data": {
      "text/plain": [
       "LinearRegression()"
      ]
     },
     "execution_count": 23,
     "metadata": {},
     "output_type": "execute_result"
    }
   ],
   "source": [
    "regressor.fit(X_train, y_train)"
   ]
  },
  {
   "cell_type": "code",
   "execution_count": 24,
   "metadata": {},
   "outputs": [],
   "source": [
    "y_pred = regressor.predict(X_test)"
   ]
  },
  {
   "cell_type": "code",
   "execution_count": 25,
   "metadata": {},
   "outputs": [
    {
     "data": {
      "text/html": [
       "<div>\n",
       "<style scoped>\n",
       "    .dataframe tbody tr th:only-of-type {\n",
       "        vertical-align: middle;\n",
       "    }\n",
       "\n",
       "    .dataframe tbody tr th {\n",
       "        vertical-align: top;\n",
       "    }\n",
       "\n",
       "    .dataframe thead th {\n",
       "        text-align: right;\n",
       "    }\n",
       "</style>\n",
       "<table border=\"1\" class=\"dataframe\">\n",
       "  <thead>\n",
       "    <tr style=\"text-align: right;\">\n",
       "      <th></th>\n",
       "      <th>Actual</th>\n",
       "      <th>Predicted</th>\n",
       "    </tr>\n",
       "  </thead>\n",
       "  <tbody>\n",
       "    <tr>\n",
       "      <th>0</th>\n",
       "      <td>431.23</td>\n",
       "      <td>431.427616</td>\n",
       "    </tr>\n",
       "    <tr>\n",
       "      <th>1</th>\n",
       "      <td>460.01</td>\n",
       "      <td>458.561246</td>\n",
       "    </tr>\n",
       "    <tr>\n",
       "      <th>2</th>\n",
       "      <td>461.14</td>\n",
       "      <td>462.752647</td>\n",
       "    </tr>\n",
       "    <tr>\n",
       "      <th>3</th>\n",
       "      <td>445.90</td>\n",
       "      <td>448.595962</td>\n",
       "    </tr>\n",
       "    <tr>\n",
       "      <th>4</th>\n",
       "      <td>451.29</td>\n",
       "      <td>457.870777</td>\n",
       "    </tr>\n",
       "    <tr>\n",
       "      <th>...</th>\n",
       "      <td>...</td>\n",
       "      <td>...</td>\n",
       "    </tr>\n",
       "    <tr>\n",
       "      <th>1909</th>\n",
       "      <td>460.29</td>\n",
       "      <td>463.634916</td>\n",
       "    </tr>\n",
       "    <tr>\n",
       "      <th>1910</th>\n",
       "      <td>452.42</td>\n",
       "      <td>457.035484</td>\n",
       "    </tr>\n",
       "    <tr>\n",
       "      <th>1911</th>\n",
       "      <td>473.26</td>\n",
       "      <td>469.518359</td>\n",
       "    </tr>\n",
       "    <tr>\n",
       "      <th>1912</th>\n",
       "      <td>438.00</td>\n",
       "      <td>442.417595</td>\n",
       "    </tr>\n",
       "    <tr>\n",
       "      <th>1913</th>\n",
       "      <td>463.28</td>\n",
       "      <td>461.882799</td>\n",
       "    </tr>\n",
       "  </tbody>\n",
       "</table>\n",
       "<p>1914 rows × 2 columns</p>\n",
       "</div>"
      ],
      "text/plain": [
       "      Actual   Predicted\n",
       "0     431.23  431.427616\n",
       "1     460.01  458.561246\n",
       "2     461.14  462.752647\n",
       "3     445.90  448.595962\n",
       "4     451.29  457.870777\n",
       "...      ...         ...\n",
       "1909  460.29  463.634916\n",
       "1910  452.42  457.035484\n",
       "1911  473.26  469.518359\n",
       "1912  438.00  442.417595\n",
       "1913  463.28  461.882799\n",
       "\n",
       "[1914 rows x 2 columns]"
      ]
     },
     "execution_count": 25,
     "metadata": {},
     "output_type": "execute_result"
    }
   ],
   "source": [
    "df = pd.DataFrame({'Actual': y_test.flatten(), 'Predicted': y_pred.flatten()})\n",
    "df"
   ]
  },
  {
   "cell_type": "code",
   "execution_count": 26,
   "metadata": {},
   "outputs": [
    {
     "data": {
      "image/png": "[encoded data removed]",
      "text/plain": [
       "<Figure size 1152x720 with 1 Axes>"
      ]
     },
     "metadata": {
      "needs_background": "light"
     },
     "output_type": "display_data"
    }
   ],
   "source": [
    "df1 = df.head(5)\n",
    "df1.plot(kind='bar',figsize=(16,10))\n",
    "plt.grid(which='major', linestyle='-', linewidth='0.5', color='green')\n",
    "plt.grid(which='minor', linestyle=':', linewidth='0.5', color='black')\n",
    "plt.show()"
   ]
  },
  {
   "cell_type": "code",
   "execution_count": null,
   "metadata": {},
   "outputs": [],
   "source": []
  }
 ],
 "metadata": {
  "kernelspec": {
   "display_name": "Python 3",
   "language": "python",
   "name": "python3"
  },
  "language_info": {
   "codemirror_mode": {
    "name": "ipython",
    "version": 3
   },
   "file_extension": ".py",
   "mimetype": "text/x-python",
   "name": "python",
   "nbconvert_exporter": "python",
   "pygments_lexer": "ipython3",
   "version": "3.8.3rc1"
  }
 },
 "nbformat": 4,
 "nbformat_minor": 4
}
