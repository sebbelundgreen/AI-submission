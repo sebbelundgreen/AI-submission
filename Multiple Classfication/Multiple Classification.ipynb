{
 "cells": [
  {
   "cell_type": "code",
   "execution_count": 1,
   "metadata": {},
   "outputs": [],
   "source": [
    "import numpy as np\n",
    "import pandas as pd\n",
    "import matplotlib.pyplot as plt"
   ]
  },
  {
   "cell_type": "code",
   "execution_count": 2,
   "metadata": {},
   "outputs": [],
   "source": [
    "import tensorflow as tf"
   ]
  },
  {
   "cell_type": "code",
   "execution_count": 5,
   "metadata": {},
   "outputs": [],
   "source": [
    "dataset = pd.read_csv('sobar-72.csv')"
   ]
  },
  {
   "cell_type": "code",
   "execution_count": 6,
   "metadata": {},
   "outputs": [
    {
     "data": {
      "text/html": [
       "<div>\n",
       "<style scoped>\n",
       "    .dataframe tbody tr th:only-of-type {\n",
       "        vertical-align: middle;\n",
       "    }\n",
       "\n",
       "    .dataframe tbody tr th {\n",
       "        vertical-align: top;\n",
       "    }\n",
       "\n",
       "    .dataframe thead th {\n",
       "        text-align: right;\n",
       "    }\n",
       "</style>\n",
       "<table border=\"1\" class=\"dataframe\">\n",
       "  <thead>\n",
       "    <tr style=\"text-align: right;\">\n",
       "      <th></th>\n",
       "      <th>behavior_sexualRisk</th>\n",
       "      <th>behavior_eating</th>\n",
       "      <th>behavior_personalHygine</th>\n",
       "      <th>intention_aggregation</th>\n",
       "      <th>intention_commitment</th>\n",
       "      <th>attitude_consistency</th>\n",
       "      <th>attitude_spontaneity</th>\n",
       "      <th>norm_significantPerson</th>\n",
       "      <th>norm_fulfillment</th>\n",
       "      <th>perception_vulnerability</th>\n",
       "      <th>perception_severity</th>\n",
       "      <th>motivation_strength</th>\n",
       "      <th>motivation_willingness</th>\n",
       "      <th>socialSupport_emotionality</th>\n",
       "      <th>socialSupport_appreciation</th>\n",
       "      <th>socialSupport_instrumental</th>\n",
       "      <th>empowerment_knowledge</th>\n",
       "      <th>empowerment_abilities</th>\n",
       "      <th>empowerment_desires</th>\n",
       "      <th>ca_cervix</th>\n",
       "    </tr>\n",
       "  </thead>\n",
       "  <tbody>\n",
       "    <tr>\n",
       "      <th>0</th>\n",
       "      <td>10</td>\n",
       "      <td>13</td>\n",
       "      <td>12</td>\n",
       "      <td>4</td>\n",
       "      <td>7</td>\n",
       "      <td>9</td>\n",
       "      <td>10</td>\n",
       "      <td>1</td>\n",
       "      <td>8</td>\n",
       "      <td>7</td>\n",
       "      <td>3</td>\n",
       "      <td>14</td>\n",
       "      <td>8</td>\n",
       "      <td>5</td>\n",
       "      <td>7</td>\n",
       "      <td>12</td>\n",
       "      <td>12</td>\n",
       "      <td>11</td>\n",
       "      <td>8</td>\n",
       "      <td>1</td>\n",
       "    </tr>\n",
       "    <tr>\n",
       "      <th>1</th>\n",
       "      <td>10</td>\n",
       "      <td>11</td>\n",
       "      <td>11</td>\n",
       "      <td>10</td>\n",
       "      <td>14</td>\n",
       "      <td>7</td>\n",
       "      <td>7</td>\n",
       "      <td>5</td>\n",
       "      <td>5</td>\n",
       "      <td>4</td>\n",
       "      <td>2</td>\n",
       "      <td>15</td>\n",
       "      <td>13</td>\n",
       "      <td>7</td>\n",
       "      <td>6</td>\n",
       "      <td>5</td>\n",
       "      <td>5</td>\n",
       "      <td>4</td>\n",
       "      <td>4</td>\n",
       "      <td>1</td>\n",
       "    </tr>\n",
       "    <tr>\n",
       "      <th>2</th>\n",
       "      <td>10</td>\n",
       "      <td>15</td>\n",
       "      <td>3</td>\n",
       "      <td>2</td>\n",
       "      <td>14</td>\n",
       "      <td>8</td>\n",
       "      <td>10</td>\n",
       "      <td>1</td>\n",
       "      <td>4</td>\n",
       "      <td>7</td>\n",
       "      <td>2</td>\n",
       "      <td>7</td>\n",
       "      <td>3</td>\n",
       "      <td>3</td>\n",
       "      <td>6</td>\n",
       "      <td>11</td>\n",
       "      <td>3</td>\n",
       "      <td>3</td>\n",
       "      <td>15</td>\n",
       "      <td>1</td>\n",
       "    </tr>\n",
       "    <tr>\n",
       "      <th>3</th>\n",
       "      <td>10</td>\n",
       "      <td>11</td>\n",
       "      <td>10</td>\n",
       "      <td>10</td>\n",
       "      <td>15</td>\n",
       "      <td>7</td>\n",
       "      <td>7</td>\n",
       "      <td>1</td>\n",
       "      <td>5</td>\n",
       "      <td>4</td>\n",
       "      <td>2</td>\n",
       "      <td>15</td>\n",
       "      <td>13</td>\n",
       "      <td>7</td>\n",
       "      <td>4</td>\n",
       "      <td>4</td>\n",
       "      <td>4</td>\n",
       "      <td>4</td>\n",
       "      <td>4</td>\n",
       "      <td>1</td>\n",
       "    </tr>\n",
       "    <tr>\n",
       "      <th>4</th>\n",
       "      <td>8</td>\n",
       "      <td>11</td>\n",
       "      <td>7</td>\n",
       "      <td>8</td>\n",
       "      <td>10</td>\n",
       "      <td>7</td>\n",
       "      <td>8</td>\n",
       "      <td>1</td>\n",
       "      <td>5</td>\n",
       "      <td>3</td>\n",
       "      <td>2</td>\n",
       "      <td>15</td>\n",
       "      <td>5</td>\n",
       "      <td>3</td>\n",
       "      <td>6</td>\n",
       "      <td>12</td>\n",
       "      <td>5</td>\n",
       "      <td>4</td>\n",
       "      <td>7</td>\n",
       "      <td>1</td>\n",
       "    </tr>\n",
       "  </tbody>\n",
       "</table>\n",
       "</div>"
      ],
      "text/plain": [
       "   behavior_sexualRisk  behavior_eating  behavior_personalHygine  \\\n",
       "0                   10               13                       12   \n",
       "1                   10               11                       11   \n",
       "2                   10               15                        3   \n",
       "3                   10               11                       10   \n",
       "4                    8               11                        7   \n",
       "\n",
       "   intention_aggregation  intention_commitment  attitude_consistency  \\\n",
       "0                      4                     7                     9   \n",
       "1                     10                    14                     7   \n",
       "2                      2                    14                     8   \n",
       "3                     10                    15                     7   \n",
       "4                      8                    10                     7   \n",
       "\n",
       "   attitude_spontaneity  norm_significantPerson  norm_fulfillment  \\\n",
       "0                    10                       1                 8   \n",
       "1                     7                       5                 5   \n",
       "2                    10                       1                 4   \n",
       "3                     7                       1                 5   \n",
       "4                     8                       1                 5   \n",
       "\n",
       "   perception_vulnerability  perception_severity  motivation_strength  \\\n",
       "0                         7                    3                   14   \n",
       "1                         4                    2                   15   \n",
       "2                         7                    2                    7   \n",
       "3                         4                    2                   15   \n",
       "4                         3                    2                   15   \n",
       "\n",
       "   motivation_willingness  socialSupport_emotionality  \\\n",
       "0                       8                           5   \n",
       "1                      13                           7   \n",
       "2                       3                           3   \n",
       "3                      13                           7   \n",
       "4                       5                           3   \n",
       "\n",
       "   socialSupport_appreciation  socialSupport_instrumental  \\\n",
       "0                           7                          12   \n",
       "1                           6                           5   \n",
       "2                           6                          11   \n",
       "3                           4                           4   \n",
       "4                           6                          12   \n",
       "\n",
       "   empowerment_knowledge  empowerment_abilities  empowerment_desires  \\\n",
       "0                     12                     11                    8   \n",
       "1                      5                      4                    4   \n",
       "2                      3                      3                   15   \n",
       "3                      4                      4                    4   \n",
       "4                      5                      4                    7   \n",
       "\n",
       "   ca_cervix  \n",
       "0          1  \n",
       "1          1  \n",
       "2          1  \n",
       "3          1  \n",
       "4          1  "
      ]
     },
     "execution_count": 6,
     "metadata": {},
     "output_type": "execute_result"
    }
   ],
   "source": [
    "dataset.head()"
   ]
  },
  {
   "cell_type": "code",
   "execution_count": 7,
   "metadata": {},
   "outputs": [],
   "source": [
    "X = dataset.iloc[:,:-1].values\n",
    "y = dataset.iloc[:,-1].values"
   ]
  },
  {
   "cell_type": "code",
   "execution_count": 8,
   "metadata": {},
   "outputs": [
    {
     "data": {
      "text/plain": [
       "array([[10, 13, 12, ..., 12, 11,  8],\n",
       "       [10, 11, 11, ...,  5,  4,  4],\n",
       "       [10, 15,  3, ...,  3,  3, 15],\n",
       "       ...,\n",
       "       [10,  8, 11, ..., 12, 10, 10],\n",
       "       [ 9, 12, 13, ..., 11, 13, 15],\n",
       "       [10, 14, 14, ..., 13, 15, 15]], dtype=int64)"
      ]
     },
     "execution_count": 8,
     "metadata": {},
     "output_type": "execute_result"
    }
   ],
   "source": [
    "X"
   ]
  },
  {
   "cell_type": "code",
   "execution_count": 9,
   "metadata": {},
   "outputs": [],
   "source": [
    "from sklearn.model_selection import train_test_split\n",
    "X_train, X_test, y_train, y_test = train_test_split(X, y, test_size = 0.2, random_state = 0)"
   ]
  },
  {
   "cell_type": "code",
   "execution_count": 10,
   "metadata": {},
   "outputs": [
    {
     "data": {
      "text/plain": [
       "(57, 19)"
      ]
     },
     "execution_count": 10,
     "metadata": {},
     "output_type": "execute_result"
    }
   ],
   "source": [
    "X_train.shape"
   ]
  },
  {
   "cell_type": "code",
   "execution_count": 11,
   "metadata": {},
   "outputs": [],
   "source": [
    "from sklearn.preprocessing import StandardScaler\n",
    "sc = StandardScaler()"
   ]
  },
  {
   "cell_type": "code",
   "execution_count": 12,
   "metadata": {},
   "outputs": [],
   "source": [
    "X_train = sc.fit_transform(X_train)\n",
    "X_test = sc.transform(X_test)"
   ]
  },
  {
   "cell_type": "code",
   "execution_count": 13,
   "metadata": {},
   "outputs": [],
   "source": [
    "ann = tf.keras.models.Sequential()"
   ]
  },
  {
   "cell_type": "code",
   "execution_count": 14,
   "metadata": {},
   "outputs": [],
   "source": [
    "ann.add(tf.keras.layers.Dense(units=6,activation='relu'))"
   ]
  },
  {
   "cell_type": "code",
   "execution_count": 15,
   "metadata": {},
   "outputs": [],
   "source": [
    "ann.add(tf.keras.layers.Dense(units=6,activation='relu'))"
   ]
  },
  {
   "cell_type": "code",
   "execution_count": 16,
   "metadata": {},
   "outputs": [],
   "source": [
    "ann.add(tf.keras.layers.Dense(units=1,activation='sigmoid'))"
   ]
  },
  {
   "cell_type": "code",
   "execution_count": 17,
   "metadata": {},
   "outputs": [],
   "source": [
    "ann.compile(optimizer='adam', loss='binary_crossentropy',metrics=['accuracy'])"
   ]
  },
  {
   "cell_type": "code",
   "execution_count": 18,
   "metadata": {},
   "outputs": [
    {
     "name": "stdout",
     "output_type": "stream",
     "text": [
      "Epoch 1/100\n",
      "2/2 [==============================] - 0s 4ms/step - loss: 0.7844 - accuracy: 0.3860\n",
      "Epoch 2/100\n",
      "2/2 [==============================] - 0s 1ms/step - loss: 0.7776 - accuracy: 0.3860\n",
      "Epoch 3/100\n",
      "2/2 [==============================] - 0s 3ms/step - loss: 0.7711 - accuracy: 0.3860\n",
      "Epoch 4/100\n",
      "2/2 [==============================] - 0s 2ms/step - loss: 0.7649 - accuracy: 0.3860\n",
      "Epoch 5/100\n",
      "2/2 [==============================] - 0s 1ms/step - loss: 0.7587 - accuracy: 0.4035\n",
      "Epoch 6/100\n",
      "2/2 [==============================] - 0s 4ms/step - loss: 0.7531 - accuracy: 0.4035\n",
      "Epoch 7/100\n",
      "2/2 [==============================] - 0s 1ms/step - loss: 0.7471 - accuracy: 0.4035\n",
      "Epoch 8/100\n",
      "2/2 [==============================] - 0s 1ms/step - loss: 0.7415 - accuracy: 0.4035\n",
      "Epoch 9/100\n",
      "2/2 [==============================] - 0s 1ms/step - loss: 0.7353 - accuracy: 0.3860\n",
      "Epoch 10/100\n",
      "2/2 [==============================] - 0s 2ms/step - loss: 0.7295 - accuracy: 0.3860\n",
      "Epoch 11/100\n",
      "2/2 [==============================] - 0s 1ms/step - loss: 0.7237 - accuracy: 0.4211\n",
      "Epoch 12/100\n",
      "2/2 [==============================] - 0s 2ms/step - loss: 0.7182 - accuracy: 0.4737\n",
      "Epoch 13/100\n",
      "2/2 [==============================] - 0s 2ms/step - loss: 0.7121 - accuracy: 0.4912\n",
      "Epoch 14/100\n",
      "2/2 [==============================] - 0s 1ms/step - loss: 0.7067 - accuracy: 0.5088\n",
      "Epoch 15/100\n",
      "2/2 [==============================] - 0s 1ms/step - loss: 0.7013 - accuracy: 0.5088\n",
      "Epoch 16/100\n",
      "2/2 [==============================] - 0s 1ms/step - loss: 0.6960 - accuracy: 0.5263\n",
      "Epoch 17/100\n",
      "2/2 [==============================] - 0s 3ms/step - loss: 0.6910 - accuracy: 0.5439\n",
      "Epoch 18/100\n",
      "2/2 [==============================] - 0s 2ms/step - loss: 0.6859 - accuracy: 0.5439\n",
      "Epoch 19/100\n",
      "2/2 [==============================] - ETA: 0s - loss: 0.6746 - accuracy: 0.53 - 0s 2ms/step - loss: 0.6813 - accuracy: 0.5789\n",
      "Epoch 20/100\n",
      "2/2 [==============================] - 0s 1ms/step - loss: 0.6764 - accuracy: 0.6140\n",
      "Epoch 21/100\n",
      "2/2 [==============================] - 0s 2ms/step - loss: 0.6723 - accuracy: 0.6491\n",
      "Epoch 22/100\n",
      "2/2 [==============================] - 0s 3ms/step - loss: 0.6677 - accuracy: 0.6316\n",
      "Epoch 23/100\n",
      "2/2 [==============================] - 0s 1ms/step - loss: 0.6636 - accuracy: 0.6316\n",
      "Epoch 24/100\n",
      "2/2 [==============================] - 0s 3ms/step - loss: 0.6590 - accuracy: 0.6316\n",
      "Epoch 25/100\n",
      "2/2 [==============================] - 0s 2ms/step - loss: 0.6545 - accuracy: 0.6842\n",
      "Epoch 26/100\n",
      "2/2 [==============================] - 0s 1ms/step - loss: 0.6502 - accuracy: 0.7193\n",
      "Epoch 27/100\n",
      "2/2 [==============================] - 0s 2ms/step - loss: 0.6462 - accuracy: 0.7368\n",
      "Epoch 28/100\n",
      "2/2 [==============================] - 0s 2ms/step - loss: 0.6422 - accuracy: 0.7719\n",
      "Epoch 29/100\n",
      "2/2 [==============================] - 0s 2ms/step - loss: 0.6381 - accuracy: 0.7719\n",
      "Epoch 30/100\n",
      "2/2 [==============================] - 0s 4ms/step - loss: 0.6346 - accuracy: 0.7719\n",
      "Epoch 31/100\n",
      "2/2 [==============================] - 0s 2ms/step - loss: 0.6305 - accuracy: 0.7719\n",
      "Epoch 32/100\n",
      "2/2 [==============================] - 0s 1ms/step - loss: 0.6272 - accuracy: 0.7719\n",
      "Epoch 33/100\n",
      "2/2 [==============================] - 0s 997us/step - loss: 0.6235 - accuracy: 0.7719\n",
      "Epoch 34/100\n",
      "2/2 [==============================] - 0s 3ms/step - loss: 0.6199 - accuracy: 0.7719\n",
      "Epoch 35/100\n",
      "2/2 [==============================] - 0s 2ms/step - loss: 0.6165 - accuracy: 0.7719\n",
      "Epoch 36/100\n",
      "2/2 [==============================] - 0s 2ms/step - loss: 0.6131 - accuracy: 0.7719\n",
      "Epoch 37/100\n",
      "2/2 [==============================] - 0s 2ms/step - loss: 0.6094 - accuracy: 0.7719\n",
      "Epoch 38/100\n",
      "2/2 [==============================] - 0s 2ms/step - loss: 0.6059 - accuracy: 0.7895\n",
      "Epoch 39/100\n",
      "2/2 [==============================] - 0s 1ms/step - loss: 0.6022 - accuracy: 0.7895\n",
      "Epoch 40/100\n",
      "2/2 [==============================] - 0s 3ms/step - loss: 0.5986 - accuracy: 0.7895\n",
      "Epoch 41/100\n",
      "2/2 [==============================] - 0s 2ms/step - loss: 0.5951 - accuracy: 0.7895\n",
      "Epoch 42/100\n",
      "2/2 [==============================] - ETA: 0s - loss: 0.5892 - accuracy: 0.81 - 0s 2ms/step - loss: 0.5915 - accuracy: 0.8070\n",
      "Epoch 43/100\n",
      "2/2 [==============================] - 0s 998us/step - loss: 0.5880 - accuracy: 0.8070\n",
      "Epoch 44/100\n",
      "2/2 [==============================] - 0s 3ms/step - loss: 0.5843 - accuracy: 0.8246\n",
      "Epoch 45/100\n",
      "2/2 [==============================] - 0s 2ms/step - loss: 0.5808 - accuracy: 0.8246\n",
      "Epoch 46/100\n",
      "2/2 [==============================] - 0s 1ms/step - loss: 0.5771 - accuracy: 0.8421\n",
      "Epoch 47/100\n",
      "2/2 [==============================] - 0s 2ms/step - loss: 0.5735 - accuracy: 0.8596\n",
      "Epoch 48/100\n",
      "2/2 [==============================] - 0s 3ms/step - loss: 0.5698 - accuracy: 0.8596\n",
      "Epoch 49/100\n",
      "2/2 [==============================] - 0s 1ms/step - loss: 0.5664 - accuracy: 0.8596\n",
      "Epoch 50/100\n",
      "2/2 [==============================] - 0s 1ms/step - loss: 0.5627 - accuracy: 0.8596\n",
      "Epoch 51/100\n",
      "2/2 [==============================] - 0s 1ms/step - loss: 0.5590 - accuracy: 0.8596\n",
      "Epoch 52/100\n",
      "2/2 [==============================] - 0s 3ms/step - loss: 0.5554 - accuracy: 0.8772\n",
      "Epoch 53/100\n",
      "2/2 [==============================] - 0s 1ms/step - loss: 0.5514 - accuracy: 0.8772\n",
      "Epoch 54/100\n",
      "2/2 [==============================] - 0s 1ms/step - loss: 0.5477 - accuracy: 0.8772\n",
      "Epoch 55/100\n",
      "2/2 [==============================] - 0s 2ms/step - loss: 0.5437 - accuracy: 0.8772\n",
      "Epoch 56/100\n",
      "2/2 [==============================] - 0s 4ms/step - loss: 0.5398 - accuracy: 0.8772\n",
      "Epoch 57/100\n",
      "2/2 [==============================] - 0s 2ms/step - loss: 0.5358 - accuracy: 0.8772\n",
      "Epoch 58/100\n",
      "2/2 [==============================] - 0s 1ms/step - loss: 0.5318 - accuracy: 0.8772\n",
      "Epoch 59/100\n",
      "2/2 [==============================] - 0s 2ms/step - loss: 0.5275 - accuracy: 0.8772\n",
      "Epoch 60/100\n",
      "2/2 [==============================] - 0s 1ms/step - loss: 0.5235 - accuracy: 0.8772\n",
      "Epoch 61/100\n",
      "2/2 [==============================] - 0s 4ms/step - loss: 0.5194 - accuracy: 0.8772\n",
      "Epoch 62/100\n",
      "2/2 [==============================] - 0s 3ms/step - loss: 0.5151 - accuracy: 0.8772\n",
      "Epoch 63/100\n",
      "2/2 [==============================] - 0s 5ms/step - loss: 0.5110 - accuracy: 0.8947\n",
      "Epoch 64/100\n",
      "2/2 [==============================] - 0s 2ms/step - loss: 0.5067 - accuracy: 0.8947\n",
      "Epoch 65/100\n",
      "2/2 [==============================] - 0s 1ms/step - loss: 0.5025 - accuracy: 0.8947\n",
      "Epoch 66/100\n",
      "2/2 [==============================] - 0s 3ms/step - loss: 0.4983 - accuracy: 0.8947\n",
      "Epoch 67/100\n",
      "2/2 [==============================] - 0s 2ms/step - loss: 0.4942 - accuracy: 0.8947\n",
      "Epoch 68/100\n",
      "2/2 [==============================] - 0s 1ms/step - loss: 0.4898 - accuracy: 0.8947\n",
      "Epoch 69/100\n",
      "2/2 [==============================] - 0s 2ms/step - loss: 0.4853 - accuracy: 0.8947\n",
      "Epoch 70/100\n",
      "2/2 [==============================] - 0s 1ms/step - loss: 0.4809 - accuracy: 0.8947\n",
      "Epoch 71/100\n",
      "2/2 [==============================] - 0s 4ms/step - loss: 0.4763 - accuracy: 0.8947\n",
      "Epoch 72/100\n",
      "2/2 [==============================] - 0s 1ms/step - loss: 0.4718 - accuracy: 0.8947\n",
      "Epoch 73/100\n",
      "2/2 [==============================] - 0s 2ms/step - loss: 0.4673 - accuracy: 0.9123\n",
      "Epoch 74/100\n",
      "2/2 [==============================] - 0s 2ms/step - loss: 0.4627 - accuracy: 0.9123\n",
      "Epoch 75/100\n",
      "2/2 [==============================] - 0s 1ms/step - loss: 0.4578 - accuracy: 0.9123\n",
      "Epoch 76/100\n",
      "2/2 [==============================] - 0s 2ms/step - loss: 0.4532 - accuracy: 0.9123\n",
      "Epoch 77/100\n",
      "2/2 [==============================] - 0s 3ms/step - loss: 0.4486 - accuracy: 0.9123\n",
      "Epoch 78/100\n",
      "2/2 [==============================] - 0s 997us/step - loss: 0.4439 - accuracy: 0.9123\n",
      "Epoch 79/100\n",
      "2/2 [==============================] - 0s 2ms/step - loss: 0.4393 - accuracy: 0.9123\n",
      "Epoch 80/100\n",
      "2/2 [==============================] - 0s 3ms/step - loss: 0.4346 - accuracy: 0.9123\n",
      "Epoch 81/100\n",
      "2/2 [==============================] - 0s 2ms/step - loss: 0.4299 - accuracy: 0.9123\n",
      "Epoch 82/100\n",
      "2/2 [==============================] - 0s 2ms/step - loss: 0.4254 - accuracy: 0.9123\n",
      "Epoch 83/100\n",
      "2/2 [==============================] - 0s 2ms/step - loss: 0.4207 - accuracy: 0.9123\n",
      "Epoch 84/100\n",
      "2/2 [==============================] - 0s 2ms/step - loss: 0.4161 - accuracy: 0.9123\n",
      "Epoch 85/100\n",
      "2/2 [==============================] - 0s 2ms/step - loss: 0.4116 - accuracy: 0.9123\n",
      "Epoch 86/100\n",
      "2/2 [==============================] - 0s 3ms/step - loss: 0.4072 - accuracy: 0.9123\n",
      "Epoch 87/100\n",
      "2/2 [==============================] - 0s 2ms/step - loss: 0.4028 - accuracy: 0.9123\n",
      "Epoch 88/100\n",
      "2/2 [==============================] - 0s 2ms/step - loss: 0.3984 - accuracy: 0.9123\n",
      "Epoch 89/100\n",
      "2/2 [==============================] - 0s 2ms/step - loss: 0.3940 - accuracy: 0.9123\n",
      "Epoch 90/100\n",
      "2/2 [==============================] - 0s 3ms/step - loss: 0.3896 - accuracy: 0.9123\n",
      "Epoch 91/100\n",
      "2/2 [==============================] - 0s 2ms/step - loss: 0.3852 - accuracy: 0.9123\n",
      "Epoch 92/100\n",
      "2/2 [==============================] - 0s 2ms/step - loss: 0.3811 - accuracy: 0.9123\n",
      "Epoch 93/100\n",
      "2/2 [==============================] - 0s 3ms/step - loss: 0.3768 - accuracy: 0.9123\n",
      "Epoch 94/100\n",
      "2/2 [==============================] - 0s 3ms/step - loss: 0.3724 - accuracy: 0.9123\n",
      "Epoch 95/100\n",
      "2/2 [==============================] - 0s 3ms/step - loss: 0.3683 - accuracy: 0.9123\n",
      "Epoch 96/100\n",
      "2/2 [==============================] - 0s 4ms/step - loss: 0.3641 - accuracy: 0.9123\n",
      "Epoch 97/100\n",
      "2/2 [==============================] - 0s 4ms/step - loss: 0.3599 - accuracy: 0.9123\n",
      "Epoch 98/100\n",
      "2/2 [==============================] - 0s 2ms/step - loss: 0.3559 - accuracy: 0.9123\n",
      "Epoch 99/100\n",
      "2/2 [==============================] - 0s 3ms/step - loss: 0.3519 - accuracy: 0.9123\n",
      "Epoch 100/100\n",
      "2/2 [==============================] - 0s 3ms/step - loss: 0.3477 - accuracy: 0.9123\n"
     ]
    },
    {
     "data": {
      "text/plain": [
       "<tensorflow.python.keras.callbacks.History at 0x1d0718c0d90>"
      ]
     },
     "execution_count": 18,
     "metadata": {},
     "output_type": "execute_result"
    }
   ],
   "source": [
    "ann.fit(X_train,y_train,batch_size=32, epochs= 100)"
   ]
  },
  {
   "cell_type": "code",
   "execution_count": 19,
   "metadata": {},
   "outputs": [],
   "source": [
    "y_pred = ann.predict(X_test)"
   ]
  },
  {
   "cell_type": "code",
   "execution_count": 20,
   "metadata": {},
   "outputs": [],
   "source": [
    "y_pred = (y_pred > 0.5)"
   ]
  },
  {
   "cell_type": "code",
   "execution_count": 21,
   "metadata": {},
   "outputs": [
    {
     "name": "stdout",
     "output_type": "stream",
     "text": [
      "[[0 0]\n",
      " [0 0]\n",
      " [0 0]\n",
      " [0 0]\n",
      " [1 0]\n",
      " [0 0]\n",
      " [1 1]\n",
      " [0 0]\n",
      " [0 0]\n",
      " [0 0]\n",
      " [0 0]\n",
      " [0 0]\n",
      " [0 0]\n",
      " [0 0]\n",
      " [0 0]]\n"
     ]
    }
   ],
   "source": [
    "print(np.concatenate((y_pred.reshape(len(y_pred),1), y_test.reshape(len(y_test),1)),1))"
   ]
  },
  {
   "cell_type": "code",
   "execution_count": 22,
   "metadata": {},
   "outputs": [],
   "source": [
    "from sklearn.metrics import confusion_matrix, accuracy_score"
   ]
  },
  {
   "cell_type": "code",
   "execution_count": 23,
   "metadata": {},
   "outputs": [],
   "source": [
    "cm = confusion_matrix(y_test, y_pred)"
   ]
  },
  {
   "cell_type": "code",
   "execution_count": 24,
   "metadata": {},
   "outputs": [
    {
     "name": "stdout",
     "output_type": "stream",
     "text": [
      "[[13  1]\n",
      " [ 0  1]]\n"
     ]
    }
   ],
   "source": [
    "print(cm)"
   ]
  },
  {
   "cell_type": "code",
   "execution_count": 25,
   "metadata": {},
   "outputs": [
    {
     "data": {
      "text/plain": [
       "0.9333333333333333"
      ]
     },
     "execution_count": 25,
     "metadata": {},
     "output_type": "execute_result"
    }
   ],
   "source": [
    "accuracy_score(y_test,y_pred)"
   ]
  },
  {
   "cell_type": "code",
   "execution_count": 26,
   "metadata": {},
   "outputs": [
    {
     "data": {
      "text/plain": [
       "[10, 13, 12, 4, 7, 9, 10, 1, 8, 7, 3, 14, 8, 5, 7, 12, 12, 11, 8]"
      ]
     },
     "execution_count": 26,
     "metadata": {},
     "output_type": "execute_result"
    }
   ],
   "source": [
    "[10,13,12,4,7,9,10,1,8,7,3,14,8,5,7,12,12,11,8]\n",
    "# 1) behavior_eating\n",
    "# 2) behavior_personalHygine\n",
    "# 3) intention_aggregation\n",
    "# 4) intention_commitment\n",
    "# 5) attitude_consistency\n",
    "# 6) attitude_spontaneity\n",
    "# 7) norm_significantPerson\n",
    "# 8) norm_fulfillment\n",
    "# 9) perception_vulnerability\n",
    "# 10) perception_severity\n",
    "# 11) motivation_strength\n",
    "# 12) motivation_willingness\n",
    "# 13) socialSupport_emotionality\n",
    "# 14) socialSupport_appreciation\n",
    "# 15) socialSupport_instrumental\n",
    "# 16) empowerment_knowledge\n",
    "# 17) empowerment_abilities\n",
    "# 18) empowerment_desires\n",
    "# 19) ca_cervix (this is class attribute, 1=has cervical cancer, 0=no cervical cancer)"
   ]
  },
  {
   "cell_type": "code",
   "execution_count": 27,
   "metadata": {},
   "outputs": [
    {
     "data": {
      "text/plain": [
       "array([[ 0.29816978,  0.10986137,  0.37679668, -1.30603394, -2.54485345,\n",
       "         1.31487638,  0.95958476, -1.16354173, -0.12276208, -0.4093991 ,\n",
       "        -0.7271421 ,  0.430497  , -0.3394056 , -0.61551952,  0.35646381,\n",
       "         0.48764957,  0.49519088,  0.59862541, -0.34002987]])"
      ]
     },
     "execution_count": 27,
     "metadata": {},
     "output_type": "execute_result"
    }
   ],
   "source": [
    "sc.transform([[10,13,12,4,7,9,10,1,8,7,3,14,8,5,7,12,12,11,8]])"
   ]
  },
  {
   "cell_type": "code",
   "execution_count": 28,
   "metadata": {},
   "outputs": [
    {
     "data": {
      "text/plain": [
       "array([[0.7105405]], dtype=float32)"
      ]
     },
     "execution_count": 28,
     "metadata": {},
     "output_type": "execute_result"
    }
   ],
   "source": [
    "ann.predict(sc.transform([[10,13,12,4,7,9,10,1,8,7,3,14,8,5,7,12,12,11,8]]))\n",
    "# Predict the probability \n",
    "# ( This is why we use the Sigmoid activation at the output layer for binary classification)"
   ]
  },
  {
   "cell_type": "code",
   "execution_count": 34,
   "metadata": {},
   "outputs": [
    {
     "name": "stdout",
     "output_type": "stream",
     "text": [
      "[[ True]]\n"
     ]
    }
   ],
   "source": [
    "print(ann.predict(sc.transform([[10,13,12,4,7,9,10,1,8,7,3,14,8,5,7,12,12,11,8]])) > 0.50)"
   ]
  },
  {
   "cell_type": "code",
   "execution_count": null,
   "metadata": {},
   "outputs": [],
   "source": []
  }
 ],
 "metadata": {
  "kernelspec": {
   "display_name": "Python 3",
   "language": "python",
   "name": "python3"
  },
  "language_info": {
   "codemirror_mode": {
    "name": "ipython",
    "version": 3
   },
   "file_extension": ".py",
   "mimetype": "text/x-python",
   "name": "python",
   "nbconvert_exporter": "python",
   "pygments_lexer": "ipython3",
   "version": "3.8.3rc1"
  }
 },
 "nbformat": 4,
 "nbformat_minor": 4
}
